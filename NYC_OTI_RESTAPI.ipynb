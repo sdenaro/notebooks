{
  "nbformat": 4,
  "nbformat_minor": 0,
  "metadata": {
    "colab": {
      "provenance": [],
      "toc_visible": true,
      "authorship_tag": "ABX9TyOt054n5vOuC4/objb9hoWq",
      "include_colab_link": true
    },
    "kernelspec": {
      "name": "python3",
      "display_name": "Python 3"
    },
    "language_info": {
      "name": "python"
    }
  },
  "cells": [
    {
      "cell_type": "markdown",
      "metadata": {
        "id": "view-in-github",
        "colab_type": "text"
      },
      "source": [
        "<a href=\"https://colab.research.google.com/github/sdenaro/notebooks/blob/main/NYC_OTI_RESTAPI.ipynb\" target=\"_parent\"><img src=\"https://colab.research.google.com/assets/colab-badge.svg\" alt=\"Open In Colab\"/></a>"
      ]
    },
    {
      "cell_type": "markdown",
      "source": [
        "# API Test for GetCalendar\n",
        "\n",
        "\n",
        "\n"
      ],
      "metadata": {
        "id": "5lkv_Ro1zoDD"
      }
    },
    {
      "cell_type": "markdown",
      "source": [
        "# SetUp Code\n"
      ],
      "metadata": {
        "id": "hQaUu2mCPTK4"
      }
    },
    {
      "cell_type": "code",
      "execution_count": 1,
      "metadata": {
        "id": "eWtOV-FSVLw1"
      },
      "outputs": [],
      "source": [
        "import requests\n",
        "import json\n",
        "import datetime\n",
        "import urllib.parse\n",
        "from google.colab import userdata\n",
        "\n",
        "# fail quick if no API Key\n",
        "assert not not userdata.get('Ocp-Apim-Subscription-Key')\n",
        "\n",
        "def call_api(from_date, to_date):\n",
        "\n",
        "  try:\n",
        "\n",
        "    url = \"https://api.nyc.gov/public/api/GetCalendar?fromdate={}&todate={}\"\n",
        "    api_url = url.format(urllib.parse.quote(from_date), urllib.parse.quote(to_date))\n",
        "    subkey = userdata.get('Ocp-Apim-Subscription-Key')\n",
        "    headers = {\n",
        "        \"Ocp-Apim-Subscription-Key\": subkey,\n",
        "        }\n",
        "\n",
        "    response = requests.get(api_url, headers=headers)\n",
        "    response.raise_for_status()  # Raise HTTPError for responses 4xx or 5xx\n",
        "\n",
        "    return response\n",
        "\n",
        "  except requests.exceptions.RequestException as e:\n",
        "    response.out.write(f\"Error fetching API: {e}\")\n",
        "\n",
        "  except Exception as e:\n",
        "    print(f\"Error while fetching API: {e}\")\n",
        "\n",
        "def extract_response(response):\n",
        "\n",
        "  try:\n",
        "\n",
        "    json_data = json.loads(response.text)\n",
        "    return json_data\n",
        "\n",
        "  except json.JSONDecodeError as e:\n",
        "    print(f\"Error decoding JSON: {e}\")\n",
        "\n",
        "\n"
      ]
    },
    {
      "cell_type": "markdown",
      "source": [
        "# Execute API Call"
      ],
      "metadata": {
        "id": "LCEOyoQFJQ0L"
      }
    },
    {
      "cell_type": "code",
      "source": [
        "from_date = \"2025-05-29\" # @param {type: \"date\"}\n",
        "to_date = \"2025-06-05\"   # @param {type: \"date\"}\n",
        "\n",
        "# These are the two critical calls\n",
        "response = call_api(from_date, to_date)\n",
        "json_data = extract_response(response)\n",
        "\n"
      ],
      "metadata": {
        "id": "BmqkFOgIJa43"
      },
      "execution_count": 3,
      "outputs": []
    },
    {
      "cell_type": "markdown",
      "source": [
        "# Display Status Data"
      ],
      "metadata": {
        "id": "gRWdDXnmPmxD"
      }
    },
    {
      "cell_type": "code",
      "source": [
        "##\n",
        "## Build interactive table\n",
        "##\n",
        "from pandas import DataFrame as df\n",
        "from google.colab import data_table\n",
        "\n",
        "data_table.disable_dataframe_formatter()\n",
        "\n",
        "table = []\n",
        "\n",
        "for day in json_data[\"days\"]:\n",
        "  for item in day[\"items\"]:\n",
        "    item[\"day\"] = day[\"today_id\"]\n",
        "    table.append(item)\n",
        "\n",
        "df = df(table)\n",
        "order = ['day', 'type', 'status', 'details', 'exceptionName']\n",
        "df = df.reindex(columns=order)\n",
        "\n",
        "df"
      ],
      "metadata": {
        "id": "ttkkkOafI4PQ"
      },
      "execution_count": null,
      "outputs": []
    },
    {
      "source": [
        "from google.colab import sheets\n",
        "sheet = sheets.InteractiveSheet(df=df)"
      ],
      "cell_type": "code",
      "execution_count": null,
      "outputs": [],
      "metadata": {
        "cellView": "form",
        "id": "RXUYHEHUQLU6",
        "collapsed": true
      }
    },
    {
      "cell_type": "markdown",
      "source": [
        "# Export to Sheets"
      ],
      "metadata": {
        "id": "1Lo8Ngv6h8nN"
      }
    },
    {
      "cell_type": "code",
      "source": [
        "# sheet export\n",
        "\n",
        "import pandas as pd\n",
        "import gspread\n",
        "from google.oauth2.service_account import Credentials\n",
        "from gspread_dataframe import set_with_dataframe\n",
        "\n",
        "# Sample DataFrame\n",
        "data = {'col1': [1, 2, 3], 'col2': [4, 5, 6]}\n",
        "df = pd.DataFrame(data)\n",
        "\n",
        "# Authentication\n",
        "creds = Credentials.from_service_account_file('sheetaccess.json',\n",
        "    scopes=['https://www.googleapis.com/auth/spreadsheets',\n",
        "      'https://www.googleapis.com/auth/drive'])\n",
        "\n",
        "gc = gspread.authorize(creds)\n",
        "\n",
        "# Create a new spreadsheet\n",
        "spreadsheet = gc.create('NYC OTI Data')\n",
        "worksheet = spreadsheet.add_worksheet(title='Sheet1', rows=100, cols=20)\n",
        "\n",
        "# Save the DataFrame\n",
        "set_with_dataframe(worksheet, df)\n",
        "\n",
        "\n"
      ],
      "metadata": {
        "id": "D0_taLkAiByk"
      },
      "execution_count": null,
      "outputs": []
    },
    {
      "cell_type": "markdown",
      "source": [
        "# Interactive Chart"
      ],
      "metadata": {
        "id": "kin7c5InOAo1"
      }
    },
    {
      "source": [
        "from matplotlib import pyplot as plt\n",
        "import seaborn as sns\n",
        "df.groupby('status').size().plot(kind='barh', color=sns.palettes.mpl_palette('Dark2'))\n",
        "plt.gca().spines[['top', 'right',]].set_visible(False)"
      ],
      "cell_type": "code",
      "metadata": {
        "colab": {
          "base_uri": "https://localhost:8080/",
          "height": 430
        },
        "id": "aYELPxHYxM0Y",
        "outputId": "2b3c365f-aba2-483c-f61a-162d6720d37e"
      },
      "execution_count": 5,
      "outputs": [
        {
          "output_type": "display_data",
          "data": {
            "text/plain": [
              "<Figure size 640x480 with 1 Axes>"
            ],
            "image/png": "[encoded data removed]"
          },
          "metadata": {}
        }
      ]
    },
    {
      "cell_type": "markdown",
      "source": [
        "# Define Tests"
      ],
      "metadata": {
        "id": "swGO7Hi0QSwM"
      }
    },
    {
      "cell_type": "code",
      "source": [
        "def test_not_empty(data):\n",
        "  \"\"\"\n",
        "  Test that data is not empty\n",
        "  \"\"\"\n",
        "  return(not not data, \"should not be empty\")\n",
        "\n",
        "def test_item(item):\n",
        "  \"\"\"\n",
        "  Test that each item has the correct fields\n",
        "  \"\"\"\n",
        "\n",
        "  result = {}\n",
        "\n",
        "  #either 3 or four fields\n",
        "  result[\"item should have 3 or 4 fields\"] = ((len(item) >= 3) & (len(item) <= 4))\n",
        "\n",
        "  #fail if there is some new type\n",
        "  result[\"item in Schools, Collections, Alternate Side Parking\"] = item[\"type\"] in [\"Schools\", \"Collections\", \"Alternate Side Parking\"]\n",
        "\n",
        "  #fail if missing status\n",
        "  result[\"contains status\"] = \"status\" in item\n",
        "  #fail if missing details\n",
        "  result[\"contains details\"] = \"details\" in item\n",
        "\n",
        "  if len(item) == 4:\n",
        "    #fail if missing exception\n",
        "    result[\"contains exceptionName\"] = \"exceptionName\" in item\n",
        "\n",
        "  return result\n",
        "\n",
        "def test_date_range(days,from_date,to_date):\n",
        "  \"\"\"\n",
        "  Test that the date range matches the count of days returned\n",
        "  \"\"\"\n",
        "\n",
        "  #when to == from the delta is zero days\n",
        "  #so we remove one to account for zeroth date in delta\n",
        "  date_count = len(days) - 1\n",
        "\n",
        "  start_date = datetime.datetime.strptime(from_date, '%Y-%m-%d')\n",
        "  end_date = datetime.datetime.strptime(to_date, '%Y-%m-%d')\n",
        "  delta = end_date - start_date\n",
        "\n",
        "  return(date_count == delta.days, \"date range should equal count of days returned, accounting for zeroth date in range\")\n"
      ],
      "metadata": {
        "id": "i7gxMVmtJGV5"
      },
      "execution_count": 6,
      "outputs": []
    },
    {
      "cell_type": "markdown",
      "source": [
        "# Test Results Dump"
      ],
      "metadata": {
        "id": "sMZadbTWPmQ8"
      }
    },
    {
      "cell_type": "code",
      "source": [
        "## Dump Out Test Table\n",
        "## This is a row by row test dump, run this if you dont' get the pretty data report\n",
        "\n",
        "print(f\"from_date: {from_date}\")\n",
        "print(f\"to_date: {to_date}\")\n",
        "\n",
        "print(test_not_empty(response.text))\n",
        "\n",
        "print(test_not_empty(json_data))\n",
        "\n",
        "print(test_date_range(json_data[\"days\"],from_date,to_date))\n",
        "\n",
        "# this should be a parameterized test\n",
        "for day in json_data[\"days\"]:\n",
        "  print(day)\n",
        "  for item in day[\"items\"]:\n",
        "    print(test_item(item))\n",
        "\n",
        "\n"
      ],
      "metadata": {
        "id": "A3qccz6eXvTm"
      },
      "execution_count": null,
      "outputs": []
    }
  ]
}